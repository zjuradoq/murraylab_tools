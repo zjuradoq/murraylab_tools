{
 "cells": [
  {
   "cell_type": "code",
   "execution_count": 1,
   "metadata": {},
   "outputs": [],
   "source": [
    "import os\n",
    "import sys\n",
    "mypath = os.path.join(\".\",\"multiD\")\n",
    "sys.path.append(\"D:\\\\Documents\\\\GitHub\\\\murraylab_tools\\\\\")#\"echo_multid_dilution_series\") \n",
    "\n",
    "import murraylab_tools.echo_multid_dilution_series as multiD"
   ]
  },
  {
   "cell_type": "code",
   "execution_count": 2,
   "metadata": {},
   "outputs": [
    {
     "name": "stdout",
     "output_type": "stream",
     "text": [
      "load inducers into: \n",
      "SAL : ['K7', 'L7', 'M7', 'N7']\n",
      "ATC : ['K8', 'L8', 'M8', 'N8']\n",
      "CIN : ['K9', 'L9', 'M9', 'N9']\n",
      "\n",
      "make 220.000000 ul of 100x each inducer\n",
      "\n",
      "constructs start at: \n",
      "spc3 : B2\n",
      "spc6 : B7\n",
      "spc0a1 : B12\n",
      "spc18b1 : B17\n",
      "prepare 5.28 ml of each construct for 50 well volume\n",
      "wrote ./multiD/test.csv\n",
      "wrote ./multiD/supp_test.csv\n"
     ]
    },
    {
     "data": {
      "image/png": "[encoded data removed]",
      "text/plain": [
       "<Figure size 432x288 with 1 Axes>"
      ]
     },
     "metadata": {
      "needs_background": "light"
     },
     "output_type": "display_data"
    }
   ],
   "source": [
    "#11/27/18 experiment\n",
    "#50ul per well\n",
    "#500nl of inducer=100x\n",
    "maxinducer=500\n",
    "wellvol=50\n",
    "platetype=\"384\"\n",
    "avoidedges=multiD.edges384\n",
    "wellorder=\"down\"#\"across\"\n",
    "shuffle=True\n",
    "fname = \"test.csv\"\n",
    "constructs=[\"spc3\",\"spc6\",\"spc0a1\",\"spc18b1\"]#,\"spc26c6\",\"spc-18e3\"]\n",
    "inducers=[\n",
    "    [\"SAL\",[100,75,50],[\"K7\",4]],\n",
    "    [\"ATC\",[100,75,35,0],[\"K8\",4]],\n",
    "    [\"CIN\",[100,85,75,25,0],[\"K9\",4]],\n",
    "]\n",
    "x=multiD.multid_dilution_wrapper(inducers,constructs,fname,avoidedges,\\\n",
    "        maxinducer,wellvol,shuffle,wellorder=wellorder,mypath=mypath,platetype=platetype)\n"
   ]
  },
  {
   "cell_type": "code",
   "execution_count": 3,
   "metadata": {},
   "outputs": [
    {
     "name": "stdout",
     "output_type": "stream",
     "text": [
      "load inducers into: \n",
      "SAL : ['K7', 'L7', 'M7', 'N7']\n",
      "ATC : ['K8', 'L8', 'M8', 'N8']\n",
      "CIN : ['K9', 'L9', 'M9', 'N9']\n",
      "\n",
      "make 220.000000 ul of 100x each inducer\n",
      "\n",
      "constructs start at: \n",
      "test1 : A1\n",
      "test2 : C1\n",
      "test3 : E1\n",
      "test4 : G1\n",
      "prepare 23.232 ml of each construct for 220 well volume\n",
      "wrote ./multiD/test.csv\n",
      "wrote ./multiD/supp_test.csv\n"
     ]
    },
    {
     "data": {
      "image/png": "[encoded data removed]",
      "text/plain": [
       "<Figure size 432x288 with 1 Axes>"
      ]
     },
     "metadata": {
      "needs_background": "light"
     },
     "output_type": "display_data"
    }
   ],
   "source": [
    "maxinducer=500\n",
    "wellvol=220\n",
    "platetype=\"96\"\n",
    "avoidedges=[]#multiD.topbottom96\n",
    "wellorder=\"across\"\n",
    "shuffle=True\n",
    "fname = \"test.csv\"\n",
    "constructs=[\"test1\",\"test2\",\"test3\",\"test4\"]#,\"spc26c6\",\"spc-18e3\"]\n",
    "inducers=[\n",
    "    [\"SAL\",[75,25,0],[\"K7\",4]],\n",
    "    [\"ATC\",[100,50,0],[\"K8\",4]],\n",
    "    [\"CIN\",[100,25],[\"K9\",4]],\n",
    "]\n",
    "x=multiD.multid_dilution_wrapper(inducers,constructs,fname,avoidedges,\\\n",
    "        maxinducer,wellvol,shuffle,wellorder=wellorder,mypath=mypath,platetype=platetype)"
   ]
  },
  {
   "cell_type": "code",
   "execution_count": 5,
   "metadata": {},
   "outputs": [
    {
     "name": "stdout",
     "output_type": "stream",
     "text": [
      "4\n"
     ]
    }
   ],
   "source": [
    "from copy import deepcopy as cp\n",
    "import math\n",
    "print(math.ceil(10/3))"
   ]
  },
  {
   "cell_type": "code",
   "execution_count": null,
   "metadata": {},
   "outputs": [],
   "source": []
  }
 ],
 "metadata": {
  "kernelspec": {
   "display_name": "Python 3",
   "language": "python",
   "name": "python3"
  },
  "language_info": {
   "codemirror_mode": {
    "name": "ipython",
    "version": 3
   },
   "file_extension": ".py",
   "mimetype": "text/x-python",
   "name": "python",
   "nbconvert_exporter": "python",
   "pygments_lexer": "ipython3",
   "version": "3.8.3"
  }
 },
 "nbformat": 4,
 "nbformat_minor": 2
}
