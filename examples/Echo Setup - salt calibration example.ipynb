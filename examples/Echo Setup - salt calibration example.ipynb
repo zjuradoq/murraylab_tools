{
 "cells": [
  {
   "cell_type": "code",
   "execution_count": 1,
   "metadata": {
    "collapsed": false
   },
   "outputs": [],
   "source": [
    "import murraylab_tools.echo as mt_echo\n",
    "import os.path"
   ]
  },
  {
   "cell_type": "markdown",
   "metadata": {},
   "source": [
    "# Echo Setup - Salt Calibration Example"
   ]
  },
  {
   "cell_type": "markdown",
   "metadata": {},
   "source": [
    "This notebook shows an example of how to programmatically create a picklist for an experiment using the murraylab_tools's Echo subpackage. The experiment in question is a TX-TL buffer calibration experiment. Whenever we make a fresh batch of TX-TL, we make a new buffer solution with custom MgCl and KCl concentrations optimized for maximum production from a GFP plasmid. To find those concentrations, we'll have to run TX-TL reactions with a range of MgCl and KCl concentrations. "
   ]
  },
  {
   "cell_type": "markdown",
   "metadata": {},
   "source": [
    "First, we choose where to put our files (in this case, in a \"salt calibration\" folder)."
   ]
  },
  {
   "cell_type": "code",
   "execution_count": 2,
   "metadata": {
    "collapsed": false
   },
   "outputs": [],
   "source": [
    "salt_calibration_input_folder = os.path.join(\"salt_calibration\",\"inputs\")\n",
    "salt_calibration_output_folder = os.path.join(\"salt_calibration\",\"outputs\")\n",
    "plate_file = os.path.join(salt_calibration_output_folder, \"salt_calibration_plate.dat\")\n",
    "output_name = os.path.join(salt_calibration_output_folder, \"salt_calibration_experiment\")"
   ]
  },
  {
   "cell_type": "markdown",
   "metadata": {},
   "source": [
    "Next, we define input materials. Even though this is a TX-TL experiment, we can't use a standard `TXTLMasterMix` class to define a master mix, because there's no buffer solution for this extract yet -- we'll need to add each buffer component to the master mix, leaving out only MgCl and KCl salts. We'll use a `MixtureMaterial` object to represent this master mix."
   ]
  },
  {
   "cell_type": "code",
   "execution_count": 12,
   "metadata": {
    "collapsed": false,
    "tags": []
   },
   "outputs": [
    {
     "name": "stdout",
     "output_type": "stream",
     "text": [
      "Master mix contains:\n",
      "\tTX-TL extract (1.000 x) at concentration 0.33, dimensionality = final_concentration\n",
      "\tPEG-8000 (40.000 x) at concentration 2, dimensionality = final_concentration\n",
      "\tEnergy Solution (14.000 x) at concentration 1, dimensionality = final_concentration\n",
      "\tAmino Acids (6.000 mM) at concentration 1.5, dimensionality = final_concentration\n",
      "\tpBEST-GFP (8.991 nM) at concentration 1, dimensionality = final_concentration\n",
      "fill material: None\n"
     ]
    }
   ],
   "source": [
    "# DNA concentration calculation\n",
    "pos_control_gfp_stock_ng_per_uL = 19\n",
    "pos_control_gfp_length = 3202\n",
    "pos_control_stock_nm = pos_control_gfp_stock_ng_per_uL*10**6/(660*pos_control_gfp_length)\n",
    "\n",
    "# Define materials\n",
    "txtl            = mt_echo.EchoSourceMaterial(\"TX-TL extract\", 1, units = \"x\") # x\n",
    "PEG             = mt_echo.EchoSourceMaterial(\"PEG-8000\", 40, units = \"x\") # x\n",
    "energy_solution = mt_echo.EchoSourceMaterial(\"Energy Solution\", 14, units = \"x\") # x\n",
    "amino_acids     = mt_echo.EchoSourceMaterial(\"Amino Acids\", 6, units = \"mM\") # mM\n",
    "water           = mt_echo.EchoSourceMaterial(\"Water\", 1, units = \"x\") # x\n",
    "gfp_plasmid     = mt_echo.EchoSourceMaterial(\"pBEST-GFP\", pos_control_stock_nm, units = \"nM\") # nM\n",
    "\n",
    "# Define master mix\n",
    "master_mix = mt_echo.MixtureMaterial(name = \"Master Mix\", recipe_excess=1.1)\n",
    "master_mix.add_material(txtl, 0.33)\n",
    "master_mix.add_material(PEG, 2)\n",
    "master_mix.add_material(energy_solution, 1)\n",
    "master_mix.add_material(amino_acids, 1.5)\n",
    "master_mix.add_material(gfp_plasmid, 1)\n",
    "\n",
    "print(\"Master mix contains:\")\n",
    "for material, concentration, dimensionality in master_mix.materials:\n",
    "    print(f\"\\t{material} at concentration {concentration}, dimensionality = {dimensionality}\")\n",
    "print(\"fill material: \" + str(master_mix.fill_material))\n",
    "# print(master_mix.text_recipe())"
   ]
  },
  {
   "cell_type": "markdown",
   "metadata": {},
   "source": [
    "We'll also need to add salts. Here the potassium glutamate (k_salt) is diluted 3X to make it easier to dispense via Echo. We use 400 mM magnesium glutamate to ensure there is enough room in the reaction to test the desired conditions, but we can also use 200 mM or 100 mM Mg-glutamate if that's all there is. In that case, we might not be able to test high concentrations of K-glutamate."
   ]
  },
  {
   "cell_type": "code",
   "execution_count": 9,
   "metadata": {
    "collapsed": false
   },
   "outputs": [],
   "source": [
    "# Final concentrations\n",
    "mg_concs = [2, 4, 6, 8, 10, 12]\n",
    "k_concs = [40, 60, 80, 100, 120, 140]\n",
    "\n",
    "# Salt materials\n",
    "mg_salt = mt_echo.EchoSourceMaterial(\"Mg\", 400, units = \"mM\")\n",
    "k_salt = mt_echo.EchoSourceMaterial(\"K\", 3000/3, units = \"mM\")"
   ]
  },
  {
   "cell_type": "markdown",
   "metadata": {},
   "source": [
    "Finally, we create an `EchoRun` object, and add our materials. Each well should contain:\n",
    "* Master mix, including buffer components.\n",
    "* MgCl at some concentration.\n",
    "* KCl at some concentration.\n",
    "* Water to fill to 10 uL. "
   ]
  },
  {
   "cell_type": "code",
   "execution_count": 10,
   "metadata": {
    "collapsed": false,
    "scrolled": false
   },
   "outputs": [],
   "source": [
    "# Build an EchoRun object\n",
    "txtl_plate = mt_echo.SourcePlate(filename = plate_file)\n",
    "txtl_echo_calculator = mt_echo.EchoRun(plate = txtl_plate)\n",
    "\n",
    "# Add varying concentrations of Mg-glutamate and K-glutamate in grid starting at destination well B2\n",
    "txtl_echo_calculator.dilution_series(mg_salt, k_salt, mg_concs, k_concs, \"B2\")\n",
    "\n",
    "# Add master mix to all wells, fill remaining volume with water\n",
    "txtl_echo_calculator.add_material_to_all(master_mix) \n",
    "txtl_echo_calculator.fill_all_wells_with(water)\n",
    "\n",
    "# Create picklist (Echo input CSV file)\n",
    "txtl_echo_calculator.write_picklist(output_name)"
   ]
  },
  {
   "cell_type": "markdown",
   "metadata": {},
   "source": [
    "This will produce a picklist in \"salt_calibration/salt_calibration_experiment_EchoInput\" and a human-readable instruction file in \"salt_calibration/salt_calibration_experiment_experiment_overview.txt\". Here are the human-readable instructions:"
   ]
  },
  {
   "cell_type": "code",
   "execution_count": 11,
   "metadata": {
    "collapsed": false,
    "tags": []
   },
   "outputs": [
    {
     "name": "stdout",
     "output_type": "stream",
     "text": [
      "Materials used:\n",
      "\n",
      "Mg:\n",
      "\tstock concentration: 400.00 mM\n",
      "\ttotal volume: 27.30 uL\n",
      "K:\n",
      "\tstock concentration: 1000.00 mM\n",
      "\ttotal volume: 53.40 uL\n",
      "Master Mix:\n",
      "\tStock Concentration: 1 \n",
      "\tTotal Volume: 439500.00\n",
      "\t\t178.47 uL TX-TL extract (1.000 x)\n",
      "\t\t27.04 uL PEG-8000 (40.000 x)\n",
      "\t\t38.63 uL Energy Solution (14.000 x)\n",
      "\t\t135.20 uL Amino Acids (6.000 mM)\n",
      "\t\t60.15 uL pBEST-GFP (8.991 nM)\n",
      "Water:\n",
      "\tstock concentration: 1.00 x\n",
      "\ttotal volume: 49.80 uL\n",
      "\n",
      "On the source plate:\n",
      "\tAdd 27.3 uL of Mg in well: A02\n",
      "\tAdd 53.4 uL of K in well: A04\n",
      "\tAdd 65.0 uL of Master Mix in wells: A14, A15, A16, A17, A18, A19\n",
      "\tAdd 49.5 uL of Master Mix in well: A20\n",
      "\tAdd 49.8 uL of Water in well: A22"
     ]
    }
   ],
   "source": [
    "salt_filename = os.path.join(\"salt_calibration\",\"outputs\", \"salt_calibration_experiment_experiment_overview.txt\")\n",
    "with open(salt_filename,'r') as salt_file:\n",
    "    for line in salt_file:\n",
    "        print(line, end = \"\")"
   ]
  },
  {
   "cell_type": "code",
   "execution_count": null,
   "metadata": {
    "collapsed": true
   },
   "outputs": [],
   "source": []
  }
 ],
 "metadata": {
  "kernelspec": {
   "display_name": "txtl_tradeoff_env",
   "language": "python",
   "name": "python3"
  },
  "language_info": {
   "codemirror_mode": {
    "name": "ipython",
    "version": 3
   },
   "file_extension": ".py",
   "mimetype": "text/x-python",
   "name": "python",
   "nbconvert_exporter": "python",
   "pygments_lexer": "ipython3",
   "version": "3.12.2"
  }
 },
 "nbformat": 4,
 "nbformat_minor": 2
}
